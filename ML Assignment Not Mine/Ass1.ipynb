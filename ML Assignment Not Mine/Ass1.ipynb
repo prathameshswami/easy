{
 "cells": [
  {
   "cell_type": "code",
   "execution_count": 33,
   "id": "38ba31ec",
   "metadata": {},
   "outputs": [
    {
     "name": "stdout",
     "output_type": "stream",
     "text": [
      "        Unnamed: 0                            key  fare_amount  \\\n",
      "0         24238194    2015-05-07 19:52:06.0000003          7.5   \n",
      "1         27835199    2009-07-17 20:04:56.0000002          7.7   \n",
      "2         44984355   2009-08-24 21:45:00.00000061         12.9   \n",
      "3         25894730    2009-06-26 08:22:21.0000001          5.3   \n",
      "4         17610152  2014-08-28 17:47:00.000000188         16.0   \n",
      "...            ...                            ...          ...   \n",
      "199995    42598914   2012-10-28 10:49:00.00000053          3.0   \n",
      "199996    16382965    2014-03-14 01:09:00.0000008          7.5   \n",
      "199997    27804658   2009-06-29 00:42:00.00000078         30.9   \n",
      "199998    20259894    2015-05-20 14:56:25.0000004         14.5   \n",
      "199999    11951496   2010-05-15 04:08:00.00000076         14.1   \n",
      "\n",
      "                pickup_datetime  pickup_longitude  pickup_latitude  \\\n",
      "0       2015-05-07 19:52:06 UTC        -73.999817        40.738354   \n",
      "1       2009-07-17 20:04:56 UTC        -73.994355        40.728225   \n",
      "2       2009-08-24 21:45:00 UTC        -74.005043        40.740770   \n",
      "3       2009-06-26 08:22:21 UTC        -73.976124        40.790844   \n",
      "4       2014-08-28 17:47:00 UTC        -73.925023        40.744085   \n",
      "...                         ...               ...              ...   \n",
      "199995  2012-10-28 10:49:00 UTC        -73.987042        40.739367   \n",
      "199996  2014-03-14 01:09:00 UTC        -73.984722        40.736837   \n",
      "199997  2009-06-29 00:42:00 UTC        -73.986017        40.756487   \n",
      "199998  2015-05-20 14:56:25 UTC        -73.997124        40.725452   \n",
      "199999  2010-05-15 04:08:00 UTC        -73.984395        40.720077   \n",
      "\n",
      "        dropoff_longitude  dropoff_latitude  passenger_count  \n",
      "0              -73.999512         40.723217                1  \n",
      "1              -73.994710         40.750325                1  \n",
      "2              -73.962565         40.772647                1  \n",
      "3              -73.965316         40.803349                3  \n",
      "4              -73.973082         40.761247                5  \n",
      "...                   ...               ...              ...  \n",
      "199995         -73.986525         40.740297                1  \n",
      "199996         -74.006672         40.739620                1  \n",
      "199997         -73.858957         40.692588                2  \n",
      "199998         -73.983215         40.695415                1  \n",
      "199999         -73.985508         40.768793                1  \n",
      "\n",
      "[200000 rows x 9 columns]\n"
     ]
    }
   ],
   "source": [
    "import pandas as pd\n",
    "import matplotlib.pyplot as plt\n",
    "from sklearn.model_selection import train_test_split\n",
    "from sklearn.linear_model import LinearRegression\n",
    "from sklearn.ensemble import RandomForestRegressor\n",
    "from sklearn.metrics import r2_score,mean_squared_error\n",
    "from math import sin,radians,cos,atan2,sqrt\n",
    "\n",
    "data=pd.read_csv(\"uber.csv\")\n",
    "\n",
    "print(data)"
   ]
  },
  {
   "cell_type": "code",
   "execution_count": 34,
   "id": "74415649",
   "metadata": {
    "scrolled": false
   },
   "outputs": [
    {
     "name": "stdout",
     "output_type": "stream",
     "text": [
      "Unnamed: 0           0\n",
      "key                  0\n",
      "fare_amount          0\n",
      "pickup_datetime      0\n",
      "pickup_longitude     0\n",
      "pickup_latitude      0\n",
      "dropoff_longitude    1\n",
      "dropoff_latitude     1\n",
      "passenger_count      0\n",
      "dtype: int64\n",
      "Unnamed: 0           0\n",
      "key                  0\n",
      "fare_amount          0\n",
      "pickup_datetime      0\n",
      "pickup_longitude     0\n",
      "pickup_latitude      0\n",
      "dropoff_longitude    0\n",
      "dropoff_latitude     0\n",
      "passenger_count      0\n",
      "dtype: int64\n"
     ]
    }
   ],
   "source": [
    "df=data[['fare_amount',\n",
    "       'pickup_longitude', 'pickup_latitude', 'dropoff_longitude',\n",
    "       'dropoff_latitude', 'passenger_count']]\n",
    "\n",
    "\n",
    "#Preprocess the data\n",
    "print(data.isnull().sum())\n",
    "\n",
    "data['dropoff_longitude'].fillna(data['dropoff_longitude'].mean(),inplace=True)\n",
    "data['dropoff_latitude'].fillna(data['dropoff_latitude'].mean(),inplace=True)\n",
    "\n",
    "print(data.isnull().sum())"
   ]
  },
  {
   "cell_type": "code",
   "execution_count": null,
   "id": "334b6a5d",
   "metadata": {},
   "outputs": [],
   "source": [
    "#checking correlation\n",
    "df=data[['fare_amount',\n",
    "       'pickup_longitude', 'pickup_latitude', 'dropoff_longitude',\n",
    "       'dropoff_latitude', 'passenger_count']]\n",
    "\n",
    "m=df.corr()\n",
    "\n",
    "print(m)"
   ]
  },
  {
   "cell_type": "code",
   "execution_count": 35,
   "id": "7490045d",
   "metadata": {},
   "outputs": [],
   "source": [
    "# Write Functio to get distan between two coordinates\n",
    "\n",
    "def Haversin_distance(lat1,lon1,lat2,lon2):\n",
    "    lon1=radians(lon1)\n",
    "    lat1=radians(lat1)\n",
    "    lon2=radians(lon2)\n",
    "    lat2=radians(lat2)\n",
    "    \n",
    "    dlon=lon2-lon1\n",
    "    dlat=lat2-lat1\n",
    "    \n",
    "    a=sin(dlat/2)**2 + cos(lat1) * cos(lat2) * sin(dlon/2)**2\n",
    "    \n",
    "    c=atan2(sqrt(a),sqrt(1-a))\n",
    "    \n",
    "    distance=c*6347\n",
    "    \n",
    "    return distance"
   ]
  },
  {
   "cell_type": "code",
   "execution_count": 36,
   "id": "91253e70",
   "metadata": {},
   "outputs": [
    {
     "name": "stdout",
     "output_type": "stream",
     "text": [
      "0         0.838491\n",
      "1         1.224166\n",
      "2         2.508702\n",
      "3         0.827712\n",
      "4         2.229295\n",
      "            ...   \n",
      "199995    0.055894\n",
      "199996    0.933993\n",
      "199997    6.400956\n",
      "199998    1.763191\n",
      "199999    2.698687\n",
      "Name: distance, Length: 200000, dtype: float64\n"
     ]
    }
   ],
   "source": [
    "data['distance']=data.apply(lambda row:Haversin_distance(row['pickup_latitude'],row['pickup_longitude'],row['dropoff_latitude'],row['dropoff_longitude']),axis=1)\n",
    "\n",
    "print(data['distance'])"
   ]
  },
  {
   "cell_type": "code",
   "execution_count": 37,
   "id": "9ed7107e",
   "metadata": {},
   "outputs": [],
   "source": [
    "#preparing Data for modeling\n",
    "X=data['distance']\n",
    "Y=data['fare_amount']\n",
    "\n",
    "X_train,X_test,Y_train,Y_test=train_test_split(X,Y,test_size=0.25)\n",
    "\n",
    "X_train=X_train.values.reshape(-1,1)\n",
    "X_test=X_test.values.reshape(-1,1)"
   ]
  },
  {
   "cell_type": "code",
   "execution_count": 39,
   "id": "023c28cb",
   "metadata": {
    "scrolled": false
   },
   "outputs": [],
   "source": [
    "#Linear Reression\n",
    "lr=LinearRegression()\n",
    "lr.fit(X_train,Y_train)\n",
    "lr_pred=lr.predict(X_test)"
   ]
  },
  {
   "cell_type": "code",
   "execution_count": 40,
   "id": "a26af42e",
   "metadata": {},
   "outputs": [],
   "source": [
    "#Random Forest\n",
    "rf=RandomForestRegressor()\n",
    "rf.fit(X_train,Y_train)\n",
    "rf_pred=rf.predict(X_test)"
   ]
  },
  {
   "cell_type": "code",
   "execution_count": 49,
   "id": "3c98a85d",
   "metadata": {},
   "outputs": [],
   "source": [
    "r2_lr=r2_score(Y_test,lr_pred)\n",
    "lr_mse=mean_squared_error(Y_test,lr_pred,squared=False)\n",
    "\n",
    "r2_rf=r2_score(Y_test,rf_pred)\n",
    "rf_mse=mean_squared_error(Y_test,rf_pred,squared=Fase)"
   ]
  },
  {
   "cell_type": "code",
   "execution_count": 45,
   "id": "34da2820",
   "metadata": {},
   "outputs": [
    {
     "name": "stdout",
     "output_type": "stream",
     "text": [
      "Linear Regression R2: 0.0006955974937858933  MSE: 99.87868877420276\n",
      "Random Forest  R2 : 0.5922503747021425  MSE: 40.75384619619872\n"
     ]
    }
   ],
   "source": [
    "print(f\"Linear Regression R2: {r2_lr}  MSE: {lr_mse}\")\n",
    "print(f\"Random Forest  R2 : {r2_rf}  MSE: {rf_mse}\")"
   ]
  },
  {
   "cell_type": "code",
   "execution_count": 55,
   "id": "baa1d80f",
   "metadata": {},
   "outputs": [
    {
     "data": {
      "image/png": "[encoded data removed]",
      "text/plain": [
       "<Figure size 640x480 with 1 Axes>"
      ]
     },
     "metadata": {},
     "output_type": "display_data"
    }
   ],
   "source": [
    "#ploting graph for showing predicting \n",
    "plt.scatter(Y_test,lr_pred,color='blue',label=\"Linear_Reression\")\n",
    "\n",
    "plt.xlabel('Actual Fare')\n",
    "plt.ylabel('Predicted Fare')\n",
    "plt.title('Fare Prediction Comparison')\n",
    "\n",
    "# Add a legend\n",
    "plt.legend()\n",
    "plt.show()"
   ]
  },
  {
   "cell_type": "code",
   "execution_count": 54,
   "id": "5f37f24a",
   "metadata": {},
   "outputs": [
    {
     "data": {
      "image/png": "[encoded data removed]",
      "text/plain": [
       "<Figure size 640x480 with 1 Axes>"
      ]
     },
     "metadata": {},
     "output_type": "display_data"
    }
   ],
   "source": [
    "plt.scatter(Y_test,rf_pred,color='red',label=\"Random Forest\")\n",
    "plt.xlabel('Actual Fare')\n",
    "plt.ylabel('Predicted Fare')\n",
    "plt.title('Fare Prediction Comparison')\n",
    "\n",
    "# Add a legend\n",
    "plt.legend()\n",
    "plt.show()"
   ]
  },
  {
   "cell_type": "code",
   "execution_count": null,
   "id": "779da1ff",
   "metadata": {},
   "outputs": [],
   "source": []
  },
  {
   "cell_type": "code",
   "execution_count": null,
   "id": "579b5a92",
   "metadata": {},
   "outputs": [],
   "source": []
  }
 ],
 "metadata": {
  "kernelspec": {
   "display_name": "Python 3 (ipykernel)",
   "language": "python",
   "name": "python3"
  },
  "language_info": {
   "codemirror_mode": {
    "name": "ipython",
    "version": 3
   },
   "file_extension": ".py",
   "mimetype": "text/x-python",
   "name": "python",
   "nbconvert_exporter": "python",
   "pygments_lexer": "ipython3",
   "version": "3.11.4"
  }
 },
 "nbformat": 4,
 "nbformat_minor": 5
}
