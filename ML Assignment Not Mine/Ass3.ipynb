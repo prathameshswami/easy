{
 "cells": [
  {
   "cell_type": "code",
   "execution_count": 5,
   "id": "d5f36af5",
   "metadata": {},
   "outputs": [
    {
     "name": "stdout",
     "output_type": "stream",
     "text": [
      "      RowNumber  CustomerId    Surname  CreditScore Geography  Gender  Age  \\\n",
      "0             1    15634602   Hargrave          619    France  Female   42   \n",
      "1             2    15647311       Hill          608     Spain  Female   41   \n",
      "2             3    15619304       Onio          502    France  Female   42   \n",
      "3             4    15701354       Boni          699    France  Female   39   \n",
      "4             5    15737888   Mitchell          850     Spain  Female   43   \n",
      "...         ...         ...        ...          ...       ...     ...  ...   \n",
      "9995       9996    15606229   Obijiaku          771    France    Male   39   \n",
      "9996       9997    15569892  Johnstone          516    France    Male   35   \n",
      "9997       9998    15584532        Liu          709    France  Female   36   \n",
      "9998       9999    15682355  Sabbatini          772   Germany    Male   42   \n",
      "9999      10000    15628319     Walker          792    France  Female   28   \n",
      "\n",
      "      Tenure    Balance  NumOfProducts  HasCrCard  IsActiveMember  \\\n",
      "0          2       0.00              1          1               1   \n",
      "1          1   83807.86              1          0               1   \n",
      "2          8  159660.80              3          1               0   \n",
      "3          1       0.00              2          0               0   \n",
      "4          2  125510.82              1          1               1   \n",
      "...      ...        ...            ...        ...             ...   \n",
      "9995       5       0.00              2          1               0   \n",
      "9996      10   57369.61              1          1               1   \n",
      "9997       7       0.00              1          0               1   \n",
      "9998       3   75075.31              2          1               0   \n",
      "9999       4  130142.79              1          1               0   \n",
      "\n",
      "      EstimatedSalary  Exited  \n",
      "0           101348.88       1  \n",
      "1           112542.58       0  \n",
      "2           113931.57       1  \n",
      "3            93826.63       0  \n",
      "4            79084.10       0  \n",
      "...               ...     ...  \n",
      "9995         96270.64       0  \n",
      "9996        101699.77       0  \n",
      "9997         42085.58       1  \n",
      "9998         92888.52       1  \n",
      "9999         38190.78       0  \n",
      "\n",
      "[10000 rows x 14 columns]\n"
     ]
    }
   ],
   "source": [
    "import pandas as pd\n",
    "\n",
    "data=pd.read_csv('Churn_Modelling.csv')\n",
    "\n",
    "print(data)"
   ]
  },
  {
   "cell_type": "code",
   "execution_count": 6,
   "id": "1309537e",
   "metadata": {},
   "outputs": [],
   "source": [
    "#Preparing data for modelling\n",
    "#Also remove Surname as it is string and non informative in modelling\n",
    "X=data.drop(['Exited','Surname'],axis=1)\n",
    "\n",
    "Y=data['Exited']\n"
   ]
  },
  {
   "cell_type": "code",
   "execution_count": 7,
   "id": "c9db4fd2",
   "metadata": {},
   "outputs": [],
   "source": [
    "#preparin training and testing data \n",
    "# use label encoder as it will convert geography and gender data as integer\n",
    "\n",
    "from sklearn.model_selection import train_test_split\n",
    "from sklearn.preprocessing import LabelEncoder\n",
    "\n",
    "\n",
    "lb=LabelEncoder()\n",
    "X['Geography']=lb.fit_transform(X['Geography'])\n",
    "X['Gender']=lb.fit_transform(X['Gender'])\n",
    "#We are converting this geography and gender into integer value as becase during modelling it is not possible\n",
    "\n",
    "X_train,X_test,Y_train,Y_test=train_test_split(X,Y,test_size=0.25)"
   ]
  },
  {
   "cell_type": "code",
   "execution_count": 8,
   "id": "b94a6a49",
   "metadata": {},
   "outputs": [],
   "source": [
    "#Normalizarion of data\n",
    "\n",
    "from sklearn.preprocessing import StandardScaler,LabelEncoder\n",
    "\n",
    "\n",
    "sc=StandardScaler()\n",
    "X_train=sc.fit_transform(X_train)\n",
    "X_test=sc.transform(X_test)"
   ]
  },
  {
   "cell_type": "code",
   "execution_count": 9,
   "id": "d8f13649",
   "metadata": {},
   "outputs": [],
   "source": [
    "import tensorflow as tf\n",
    "from tensorflow.keras.models import Sequential\n",
    "from tensorflow.keras.layers import Dense\n",
    "\n",
    "\n",
    "#creating model of neurons\n",
    "model=Sequential([\n",
    "    Dense(units=64,activation='relu'),\n",
    "    Dense(units=32,activation='relu'),\n",
    "    Dense(units=1,activation='sigmoid')\n",
    "])\n",
    "\n",
    "#compile the model\n",
    "model.compile(optimizer='adam',loss='binary_crossentropy')"
   ]
  },
  {
   "cell_type": "code",
   "execution_count": 10,
   "id": "f8238378",
   "metadata": {},
   "outputs": [
    {
     "name": "stdout",
     "output_type": "stream",
     "text": [
      "235/235 [==============================] - 2s 2ms/step - loss: 0.4586\n",
      "79/79 [==============================] - 0s 1ms/step\n"
     ]
    }
   ],
   "source": [
    "model.fit(X_train,Y_train)\n",
    "model_pred=(model.predict(X_test)>0.5).astype(int)\n",
    "#TO Make sure that your target variable Y_test contains binary values (0 or 1). If it's in a continuous format, you might want to check how it's loaded or preprocessed.\n"
   ]
  },
  {
   "cell_type": "code",
   "execution_count": 15,
   "id": "a2815c5e",
   "metadata": {},
   "outputs": [
    {
     "name": "stdout",
     "output_type": "stream",
     "text": [
      "0.32716049382716045\n",
      "              precision    recall  f1-score   support\n",
      "\n",
      "           0       0.84      0.97      0.90      2010\n",
      "           1       0.67      0.22      0.33       490\n",
      "\n",
      "    accuracy                           0.83      2500\n",
      "   macro avg       0.75      0.60      0.61      2500\n",
      "weighted avg       0.80      0.83      0.79      2500\n",
      "\n",
      "Accuracy Score:0.8256\n",
      "confusion Matrix:[[1958   52]\n",
      " [ 384  106]]\n"
     ]
    }
   ],
   "source": [
    "#calculating Results\n",
    "from sklearn.metrics import accuracy_score,confusion_matrix,classification_report\n",
    "\n",
    "acc=accuracy_score(Y_test,model_pred)\n",
    "mat=confusion_matrix(Y_test,model_pred)\n",
    "pre=classification_report(Y_test,model_pred)\n",
    "\n",
    "\n",
    "print(pre)\n",
    "print(f\"Accuracy Score:{acc}\")\n",
    "print(f\"confusion Matrix:{mat}\")"
   ]
  },
  {
   "cell_type": "code",
   "execution_count": null,
   "id": "68afed4b",
   "metadata": {},
   "outputs": [],
   "source": [
    "#it means 85% of testing was correctly DONE"
   ]
  }
 ],
 "metadata": {
  "kernelspec": {
   "display_name": "Python 3 (ipykernel)",
   "language": "python",
   "name": "python3"
  },
  "language_info": {
   "codemirror_mode": {
    "name": "ipython",
    "version": 3
   },
   "file_extension": ".py",
   "mimetype": "text/x-python",
   "name": "python",
   "nbconvert_exporter": "python",
   "pygments_lexer": "ipython3",
   "version": "3.11.4"
  }
 },
 "nbformat": 4,
 "nbformat_minor": 5
}
