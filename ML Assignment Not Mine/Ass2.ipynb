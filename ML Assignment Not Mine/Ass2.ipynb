{
 "cells": [
  {
   "cell_type": "code",
   "execution_count": 1,
   "id": "fab8864e",
   "metadata": {},
   "outputs": [
    {
     "name": "stdout",
     "output_type": "stream",
     "text": [
      "       Email No.  the  to  ect  and  for  of    a  you  hou  ...  connevey  \\\n",
      "0        Email 1    0   0    1    0    0   0    2    0    0  ...         0   \n",
      "1        Email 2    8  13   24    6    6   2  102    1   27  ...         0   \n",
      "2        Email 3    0   0    1    0    0   0    8    0    0  ...         0   \n",
      "3        Email 4    0   5   22    0    5   1   51    2   10  ...         0   \n",
      "4        Email 5    7   6   17    1    5   2   57    0    9  ...         0   \n",
      "...          ...  ...  ..  ...  ...  ...  ..  ...  ...  ...  ...       ...   \n",
      "5167  Email 5168    2   2    2    3    0   0   32    0    0  ...         0   \n",
      "5168  Email 5169   35  27   11    2    6   5  151    4    3  ...         0   \n",
      "5169  Email 5170    0   0    1    1    0   0   11    0    0  ...         0   \n",
      "5170  Email 5171    2   7    1    0    2   1   28    2    0  ...         0   \n",
      "5171  Email 5172   22  24    5    1    6   5  148    8    2  ...         0   \n",
      "\n",
      "      jay  valued  lay  infrastructure  military  allowing  ff  dry  \\\n",
      "0       0       0    0               0         0         0   0    0   \n",
      "1       0       0    0               0         0         0   1    0   \n",
      "2       0       0    0               0         0         0   0    0   \n",
      "3       0       0    0               0         0         0   0    0   \n",
      "4       0       0    0               0         0         0   1    0   \n",
      "...   ...     ...  ...             ...       ...       ...  ..  ...   \n",
      "5167    0       0    0               0         0         0   0    0   \n",
      "5168    0       0    0               0         0         0   1    0   \n",
      "5169    0       0    0               0         0         0   0    0   \n",
      "5170    0       0    0               0         0         0   1    0   \n",
      "5171    0       0    0               0         0         0   0    0   \n",
      "\n",
      "      Prediction  \n",
      "0              0  \n",
      "1              0  \n",
      "2              0  \n",
      "3              0  \n",
      "4              0  \n",
      "...          ...  \n",
      "5167           0  \n",
      "5168           0  \n",
      "5169           1  \n",
      "5170           1  \n",
      "5171           0  \n",
      "\n",
      "[5172 rows x 3002 columns]\n"
     ]
    }
   ],
   "source": [
    "import pandas as pd\n",
    "from sklearn.model_selection import train_test_split\n",
    "from sklearn.neighbors import KNeighborsClassifier\n",
    "from sklearn.svm import SVC\n",
    "from sklearn.metrics import accuracy_score,classification_report\n",
    "\n",
    "data=pd.read_csv('emails.csv')\n",
    "print(data)"
   ]
  },
  {
   "cell_type": "code",
   "execution_count": 10,
   "id": "fdaf7f22",
   "metadata": {},
   "outputs": [],
   "source": [
    "#Prepare data for modeling\n",
    "X=data['message']\n",
    "Y=data['spam']\n",
    "\n",
    "X_train,X_test,Y_train,Y_test=train_test_split(X,Y,test_size=0.25)\n",
    "\n",
    "X_train=X_train.values.reshape(-1,1)\n",
    "X_test=X_test.values.reshape(-1,1)"
   ]
  },
  {
   "cell_type": "code",
   "execution_count": 11,
   "id": "c5f1938a",
   "metadata": {},
   "outputs": [],
   "source": [
    "#Kneighbor classification\n",
    "kn_classifier=KNeighborsClassifier(n_neighbors=5)\n",
    "kn_classifier.fit(X_train,Y_train)\n",
    "kn_pred=kn_classifier.predict(X_test)"
   ]
  },
  {
   "cell_type": "code",
   "execution_count": 12,
   "id": "bc0b8a6e",
   "metadata": {},
   "outputs": [],
   "source": [
    "#Support Vector Machine\n",
    "sv_classifier=SVC(kernel='linear')\n",
    "sv_classifier.fit(X_train,Y_train)\n",
    "sv_pred=sv_classifier.predict(X_test)"
   ]
  },
  {
   "cell_type": "code",
   "execution_count": 18,
   "id": "f40edd35",
   "metadata": {},
   "outputs": [],
   "source": [
    "#calculating Results for Models\n",
    "kn_accuracy=accuracy_score(Y_test,kn_pred)\n",
    "kn_report=classification_report(Y_test,kn_pred,zero_division=1)\n",
    "\n",
    "sv_accuracy=accuracy_score(Y_test,sv_pred)\n",
    "sv_report=classification_report(Y_test,sv_pred,zero_division=1)"
   ]
  },
  {
   "cell_type": "code",
   "execution_count": 21,
   "id": "9c9451ae",
   "metadata": {},
   "outputs": [
    {
     "name": "stdout",
     "output_type": "stream",
     "text": [
      "K Neoghbor Result\n",
      "Accuracy_score : 0.9860788863109049\n",
      "classification result\n",
      "              precision    recall  f1-score   support\n",
      "\n",
      "           0       1.00      0.99      0.99      1277\n",
      "           1       0.45      0.62      0.53        16\n",
      "\n",
      "    accuracy                           0.99      1293\n",
      "   macro avg       0.72      0.81      0.76      1293\n",
      "weighted avg       0.99      0.99      0.99      1293\n",
      "\n"
     ]
    }
   ],
   "source": [
    "print(\"K Neoghbor Result\")\n",
    "print(f\"Accuracy_score : {kn_accuracy}\")\n",
    "print(\"classification result\")\n",
    "print(kn_report)"
   ]
  },
  {
   "cell_type": "code",
   "execution_count": 22,
   "id": "d67b1de6",
   "metadata": {},
   "outputs": [
    {
     "name": "stdout",
     "output_type": "stream",
     "text": [
      "Support vector Machine Result\n",
      "Accuracy Score :0.9876256767208044\n",
      "classification Report \n",
      "              precision    recall  f1-score   support\n",
      "\n",
      "           0       0.99      1.00      0.99      1277\n",
      "           1       1.00      0.00      0.00        16\n",
      "\n",
      "    accuracy                           0.99      1293\n",
      "   macro avg       0.99      0.50      0.50      1293\n",
      "weighted avg       0.99      0.99      0.98      1293\n",
      "\n"
     ]
    }
   ],
   "source": [
    "print(\"Support vector Machine Result\")\n",
    "print(f\"Accuracy Score :{sv_accuracy}\")\n",
    "print(\"classification Report \")\n",
    "print(sv_report)"
   ]
  },
  {
   "cell_type": "code",
   "execution_count": null,
   "id": "a89b9ca7",
   "metadata": {},
   "outputs": [],
   "source": []
  }
 ],
 "metadata": {
  "kernelspec": {
   "display_name": "Python 3 (ipykernel)",
   "language": "python",
   "name": "python3"
  },
  "language_info": {
   "codemirror_mode": {
    "name": "ipython",
    "version": 3
   },
   "file_extension": ".py",
   "mimetype": "text/x-python",
   "name": "python",
   "nbconvert_exporter": "python",
   "pygments_lexer": "ipython3",
   "version": "3.11.4"
  }
 },
 "nbformat": 4,
 "nbformat_minor": 5
}
