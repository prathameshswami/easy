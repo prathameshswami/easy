{
 "cells": [
  {
   "cell_type": "code",
   "execution_count": 1,
   "id": "fedd5bf4",
   "metadata": {},
   "outputs": [
    {
     "name": "stdout",
     "output_type": "stream",
     "text": [
      "     Pregnancies  Glucose  BloodPressure  SkinThickness  Insulin   BMI  \\\n",
      "0              6      148             72             35        0  33.6   \n",
      "1              1       85             66             29        0  26.6   \n",
      "2              8      183             64              0        0  23.3   \n",
      "3              1       89             66             23       94  28.1   \n",
      "4              0      137             40             35      168  43.1   \n",
      "..           ...      ...            ...            ...      ...   ...   \n",
      "763           10      101             76             48      180  32.9   \n",
      "764            2      122             70             27        0  36.8   \n",
      "765            5      121             72             23      112  26.2   \n",
      "766            1      126             60              0        0  30.1   \n",
      "767            1       93             70             31        0  30.4   \n",
      "\n",
      "     Pedigree  Age  Outcome  \n",
      "0       0.627   50        1  \n",
      "1       0.351   31        0  \n",
      "2       0.672   32        1  \n",
      "3       0.167   21        0  \n",
      "4       2.288   33        1  \n",
      "..        ...  ...      ...  \n",
      "763     0.171   63        0  \n",
      "764     0.340   27        0  \n",
      "765     0.245   30        0  \n",
      "766     0.349   47        1  \n",
      "767     0.315   23        0  \n",
      "\n",
      "[768 rows x 9 columns]\n"
     ]
    }
   ],
   "source": [
    "import pandas as pd\n",
    "from sklearn.model_selection import train_test_split\n",
    "from sklearn.neighbors import KNeighborsClassifier\n",
    "from sklearn.metrics import accuracy_score,confusion_matrix,precision_score,recall_score\n",
    "\n",
    "data=pd.read_csv('diabetes.csv')\n",
    "print(data)"
   ]
  },
  {
   "cell_type": "code",
   "execution_count": 9,
   "id": "23130318",
   "metadata": {},
   "outputs": [],
   "source": [
    "#Preparing data for modelling\n",
    "\n",
    "X=data.drop(['Outcome'],axis=1)\n",
    "Y=data['Outcome']\n",
    "\n",
    "X_train,X_test,Y_train,Y_test=train_test_split(X,Y,test_size=0.25)\n"
   ]
  },
  {
   "cell_type": "code",
   "execution_count": 10,
   "id": "d79807b4",
   "metadata": {},
   "outputs": [],
   "source": [
    "#Uisng Kneihbor algortihm\n",
    "kn=KNeighborsClassifier(n_neighbors=5)\n",
    "kn.fit(X_train,Y_train)\n",
    "kn_pred=kn.predict(X_test)"
   ]
  },
  {
   "cell_type": "code",
   "execution_count": 12,
   "id": "9fb0fa12",
   "metadata": {},
   "outputs": [
    {
     "name": "stdout",
     "output_type": "stream",
     "text": [
      "Accuracy Score :0.71875\n",
      "Error Rate :0.28125\n",
      "Precision Score :0.5409836065573771\n",
      "Recall score :0.559322033898305\n",
      "confusion Matrix :[[105  28]\n",
      " [ 26  33]]\n"
     ]
    }
   ],
   "source": [
    "#calculating results\n",
    "acc=accuracy_score(Y_test,kn_pred)\n",
    "err=1-acc;\n",
    "c_mat=confusion_matrix(Y_test,kn_pred)\n",
    "pre=precision_score(Y_test,kn_pred)\n",
    "recall=recall_score(Y_test,kn_pred)\n",
    "\n",
    "print(f\"Accuracy Score :{acc}\")\n",
    "print(f\"Error Rate :{err}\")\n",
    "print(f\"Precision Score :{pre}\")\n",
    "print(f\"Recall score :{recall}\")\n",
    "print(f\"confusion Matrix :{c_mat}\")"
   ]
  },
  {
   "cell_type": "code",
   "execution_count": null,
   "id": "e6e0d67c",
   "metadata": {},
   "outputs": [],
   "source": []
  }
 ],
 "metadata": {
  "kernelspec": {
   "display_name": "Python 3 (ipykernel)",
   "language": "python",
   "name": "python3"
  },
  "language_info": {
   "codemirror_mode": {
    "name": "ipython",
    "version": 3
   },
   "file_extension": ".py",
   "mimetype": "text/x-python",
   "name": "python",
   "nbconvert_exporter": "python",
   "pygments_lexer": "ipython3",
   "version": "3.11.4"
  }
 },
 "nbformat": 4,
 "nbformat_minor": 5
}
